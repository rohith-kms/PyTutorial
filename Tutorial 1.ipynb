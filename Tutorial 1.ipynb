{
 "cells": [
  {
   "cell_type": "code",
   "execution_count": 1,
   "id": "e740d879",
   "metadata": {},
   "outputs": [],
   "source": [
    "a = 5\n",
    "b = 8.4"
   ]
  },
  {
   "cell_type": "code",
   "execution_count": 2,
   "id": "f275f4b1",
   "metadata": {},
   "outputs": [
    {
     "name": "stdout",
     "output_type": "stream",
     "text": [
      "13.4\n"
     ]
    }
   ],
   "source": [
    "print(a+b)"
   ]
  },
  {
   "cell_type": "code",
   "execution_count": 3,
   "id": "1a025590",
   "metadata": {},
   "outputs": [],
   "source": [
    "# We want arrays!!!\n",
    "\n",
    "a = [1,2,3,4,5,6,7,8,8,120,123123,41,24,12,4,12,312,3,12,3]"
   ]
  },
  {
   "cell_type": "code",
   "execution_count": 4,
   "id": "2afc227a",
   "metadata": {},
   "outputs": [
    {
     "data": {
      "text/plain": [
       "5"
      ]
     },
     "execution_count": 4,
     "metadata": {},
     "output_type": "execute_result"
    }
   ],
   "source": [
    "a[4]"
   ]
  },
  {
   "cell_type": "code",
   "execution_count": 5,
   "id": "ba3cd9f5",
   "metadata": {},
   "outputs": [
    {
     "data": {
      "text/plain": [
       "[5, 6, 7, 8, 8]"
      ]
     },
     "execution_count": 5,
     "metadata": {},
     "output_type": "execute_result"
    }
   ],
   "source": [
    "a[4:9]"
   ]
  },
  {
   "cell_type": "code",
   "execution_count": 6,
   "id": "90f40eac",
   "metadata": {},
   "outputs": [
    {
     "data": {
      "text/plain": [
       "[1, 2, 3, 4, 5, 6, 7]"
      ]
     },
     "execution_count": 6,
     "metadata": {},
     "output_type": "execute_result"
    }
   ],
   "source": [
    "a[:7]"
   ]
  },
  {
   "cell_type": "code",
   "execution_count": 7,
   "id": "1d64da95",
   "metadata": {},
   "outputs": [
    {
     "data": {
      "text/plain": [
       "[5, 120]"
      ]
     },
     "execution_count": 7,
     "metadata": {},
     "output_type": "execute_result"
    }
   ],
   "source": [
    "b = [a[4],a[9]]\n",
    "\n",
    "b"
   ]
  },
  {
   "cell_type": "code",
   "execution_count": 8,
   "id": "fd88f3a6",
   "metadata": {},
   "outputs": [],
   "source": [
    "a = [12, 24.56, 'yadayada']"
   ]
  },
  {
   "cell_type": "code",
   "execution_count": 9,
   "id": "7237adba",
   "metadata": {},
   "outputs": [
    {
     "data": {
      "text/plain": [
       "'yadayada'"
      ]
     },
     "execution_count": 9,
     "metadata": {},
     "output_type": "execute_result"
    }
   ],
   "source": [
    "a[2]"
   ]
  },
  {
   "cell_type": "code",
   "execution_count": 10,
   "id": "087398e4",
   "metadata": {},
   "outputs": [
    {
     "data": {
      "text/plain": [
       "24.56"
      ]
     },
     "execution_count": 10,
     "metadata": {},
     "output_type": "execute_result"
    }
   ],
   "source": [
    "a[1]"
   ]
  },
  {
   "cell_type": "code",
   "execution_count": 19,
   "id": "f532232d",
   "metadata": {},
   "outputs": [
    {
     "data": {
      "text/plain": [
       "9"
      ]
     },
     "execution_count": 19,
     "metadata": {},
     "output_type": "execute_result"
    }
   ],
   "source": [
    "# Range\n",
    "\n",
    "a = range(10)\n",
    "a[9]\n"
   ]
  },
  {
   "cell_type": "code",
   "execution_count": 20,
   "id": "af69eb0e",
   "metadata": {},
   "outputs": [
    {
     "name": "stdout",
     "output_type": "stream",
     "text": [
      "0\n",
      "1\n",
      "2\n",
      "3\n",
      "4\n",
      "5\n",
      "6\n",
      "7\n",
      "8\n",
      "9\n"
     ]
    }
   ],
   "source": [
    "for i in range(10):\n",
    "    \n",
    "    print(i)"
   ]
  },
  {
   "cell_type": "code",
   "execution_count": 25,
   "id": "c7082e77",
   "metadata": {},
   "outputs": [
    {
     "name": "stdout",
     "output_type": "stream",
     "text": [
      "0 0 0\n",
      "next \n",
      "rest\n",
      "1 1 1\n",
      "next \n",
      "rest\n",
      "2 4 8\n",
      "next \n",
      "rest\n",
      "3 9 27\n",
      "next \n",
      "rest\n",
      "4 16 64\n",
      "next \n",
      "rest\n",
      "5 25 125\n",
      "next \n",
      "rest\n",
      "6 36 216\n",
      "next \n",
      "rest\n",
      "7 49 343\n",
      "next \n",
      "rest\n",
      "8 64 512\n",
      "next \n",
      "rest\n",
      "9 81 729\n",
      "next \n",
      "rest\n",
      "end of loop\n"
     ]
    }
   ],
   "source": [
    "for i in range(10):\n",
    "\n",
    "    print(i,i*i,i*i*i) # notice the indentation \n",
    "    print('next \\nrest')\n",
    "    \n",
    "print('end of loop')"
   ]
  },
  {
   "cell_type": "code",
   "execution_count": 31,
   "id": "0c60fa94",
   "metadata": {},
   "outputs": [
    {
     "name": "stdout",
     "output_type": "stream",
     "text": [
      "[1, 2, 3, 4, 5, 6, 7, 8, 9, 1213, 12, 31, 23, 12, 3]\n"
     ]
    }
   ],
   "source": [
    "c = [1,2,3,4,5,6,7,8,9,1213,12,31,23,12,3]\n",
    "print(c)"
   ]
  },
  {
   "cell_type": "code",
   "execution_count": 32,
   "id": "c2afa03a",
   "metadata": {},
   "outputs": [
    {
     "data": {
      "text/plain": [
       "15"
      ]
     },
     "execution_count": 32,
     "metadata": {},
     "output_type": "execute_result"
    }
   ],
   "source": [
    "len(c)"
   ]
  },
  {
   "cell_type": "code",
   "execution_count": 33,
   "id": "a3a27df7",
   "metadata": {},
   "outputs": [
    {
     "name": "stdout",
     "output_type": "stream",
     "text": [
      "[2, 3, 4, 5, 6, 7, 8, 9, 10, 1214, 13, 32, 24, 13, 4]\n"
     ]
    }
   ],
   "source": [
    "for i in range(len(c)):\n",
    "    \n",
    "    c[i] = c[i]+1\n",
    "    \n",
    "print(c)"
   ]
  },
  {
   "cell_type": "code",
   "execution_count": 36,
   "id": "c7d43c25",
   "metadata": {},
   "outputs": [],
   "source": [
    "c[2] = c[2]+1"
   ]
  },
  {
   "cell_type": "code",
   "execution_count": 37,
   "id": "ecbcfbba",
   "metadata": {},
   "outputs": [
    {
     "name": "stdout",
     "output_type": "stream",
     "text": [
      "[2, 3, 5, 5, 6, 7, 8, 9, 10, 1214, 13, 32, 24, 13, 4]\n"
     ]
    }
   ],
   "source": [
    "print(c)"
   ]
  },
  {
   "cell_type": "code",
   "execution_count": 40,
   "id": "761ae854",
   "metadata": {},
   "outputs": [
    {
     "name": "stdout",
     "output_type": "stream",
     "text": [
      "[2, 3, 7, 7, 8, 9, 10, 11, 12, 1215, 13, 32, 24, 13, 4]\n"
     ]
    }
   ],
   "source": [
    "for i in range(2,10):\n",
    "    \n",
    "    c[i]=c[i]+1\n",
    "    \n",
    "print(c)"
   ]
  },
  {
   "cell_type": "code",
   "execution_count": 44,
   "id": "83c6b5fd",
   "metadata": {},
   "outputs": [
    {
     "name": "stdout",
     "output_type": "stream",
     "text": [
      "2\n",
      "5\n",
      "8\n"
     ]
    }
   ],
   "source": [
    "for i in range(2,10,3):\n",
    "    \n",
    "    print(i)"
   ]
  },
  {
   "cell_type": "code",
   "execution_count": 45,
   "id": "c4f22b50",
   "metadata": {},
   "outputs": [
    {
     "name": "stdout",
     "output_type": "stream",
     "text": [
      "11\n",
      "10\n",
      "9\n",
      "8\n",
      "7\n",
      "6\n",
      "5\n",
      "4\n",
      "3\n",
      "2\n",
      "1\n"
     ]
    }
   ],
   "source": [
    "for i in range(11):\n",
    "    \n",
    "    print(11-i)"
   ]
  },
  {
   "cell_type": "code",
   "execution_count": 52,
   "id": "04304c63",
   "metadata": {},
   "outputs": [
    {
     "name": "stdout",
     "output_type": "stream",
     "text": [
      "11\n",
      "10\n",
      "9\n",
      "8\n",
      "7\n",
      "6\n",
      "5\n",
      "4\n",
      "3\n",
      "2\n",
      "1\n"
     ]
    }
   ],
   "source": [
    "for i in range(11,0,-1):\n",
    "    \n",
    "    print(i)"
   ]
  },
  {
   "cell_type": "markdown",
   "id": "e5101143",
   "metadata": {},
   "source": []
  },
  {
   "cell_type": "markdown",
   "id": "833baa8f",
   "metadata": {},
   "source": [
    "I can write anything I want"
   ]
  },
  {
   "cell_type": "markdown",
   "id": "8db4a6f1",
   "metadata": {},
   "source": [
    "# Next tutorial\n",
    "\n",
    "## Python Libraries\n",
    "\n",
    "### 1. Numpy\n",
    "### 2. Matplotlib\n",
    "### 3. Pandas\n",
    "### 4. Scipy\n",
    "\n",
    "lahsbdlajhsbdjlhsqabdjhla\n",
    "\n",
    "$$ n(\\omega) = e^{-\\frac{E}{k_b T}}$$\n",
    "\n",
    "You can write equations also $ n(\\omega) = e^{-\\frac{E}{k_b T}}$"
   ]
  },
  {
   "cell_type": "markdown",
   "id": "59bbb8fc",
   "metadata": {},
   "source": [
    "##"
   ]
  }
 ],
 "metadata": {
  "kernelspec": {
   "display_name": "Python 3 (ipykernel)",
   "language": "python",
   "name": "python3"
  },
  "language_info": {
   "codemirror_mode": {
    "name": "ipython",
    "version": 3
   },
   "file_extension": ".py",
   "mimetype": "text/x-python",
   "name": "python",
   "nbconvert_exporter": "python",
   "pygments_lexer": "ipython3",
   "version": "3.9.7"
  }
 },
 "nbformat": 4,
 "nbformat_minor": 5
}
