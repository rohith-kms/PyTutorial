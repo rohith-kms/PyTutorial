{
 "cells": [
  {
   "cell_type": "markdown",
   "id": "c442e34e",
   "metadata": {},
   "source": [
    "# Numpy!!"
   ]
  },
  {
   "cell_type": "markdown",
   "id": "87298be7",
   "metadata": {},
   "source": [
    "## Everything to do with arrays"
   ]
  },
  {
   "cell_type": "code",
   "execution_count": 112,
   "id": "b9d9a89b",
   "metadata": {},
   "outputs": [],
   "source": [
    "import numpy as np"
   ]
  },
  {
   "cell_type": "code",
   "execution_count": 2,
   "id": "8f868fc0",
   "metadata": {},
   "outputs": [],
   "source": [
    "a = [1,2,3,4,6,7,9,10]"
   ]
  },
  {
   "cell_type": "code",
   "execution_count": 3,
   "id": "dd8bb9bb",
   "metadata": {},
   "outputs": [
    {
     "data": {
      "text/plain": [
       "[1, 2, 3, 4, 6, 7, 9, 10]"
      ]
     },
     "execution_count": 3,
     "metadata": {},
     "output_type": "execute_result"
    }
   ],
   "source": [
    "b = a\n",
    "b"
   ]
  },
  {
   "cell_type": "code",
   "execution_count": 4,
   "id": "23a25833",
   "metadata": {},
   "outputs": [],
   "source": [
    "b = np.array(b)"
   ]
  },
  {
   "cell_type": "code",
   "execution_count": 5,
   "id": "1f810902",
   "metadata": {},
   "outputs": [
    {
     "data": {
      "text/plain": [
       "array([ 1,  2,  3,  4,  6,  7,  9, 10])"
      ]
     },
     "execution_count": 5,
     "metadata": {},
     "output_type": "execute_result"
    }
   ],
   "source": [
    "b"
   ]
  },
  {
   "cell_type": "code",
   "execution_count": 6,
   "id": "de26bcd8",
   "metadata": {},
   "outputs": [
    {
     "data": {
      "text/plain": [
       "[1, 2, 3, 4, 6, 7, 9, 10]"
      ]
     },
     "execution_count": 6,
     "metadata": {},
     "output_type": "execute_result"
    }
   ],
   "source": [
    "a"
   ]
  },
  {
   "cell_type": "code",
   "execution_count": 7,
   "id": "2c335e43",
   "metadata": {},
   "outputs": [
    {
     "ename": "TypeError",
     "evalue": "can only concatenate list (not \"int\") to list",
     "output_type": "error",
     "traceback": [
      "\u001b[0;31m---------------------------------------------------------------------------\u001b[0m",
      "\u001b[0;31mTypeError\u001b[0m                                 Traceback (most recent call last)",
      "\u001b[0;32m/var/folders/tk/56gqnsbs2cl6qj94ktnh4x0m0000gn/T/ipykernel_97286/4093587236.py\u001b[0m in \u001b[0;36m<module>\u001b[0;34m\u001b[0m\n\u001b[0;32m----> 1\u001b[0;31m \u001b[0ma\u001b[0m\u001b[0;34m+\u001b[0m\u001b[0;36m1\u001b[0m\u001b[0;34m\u001b[0m\u001b[0;34m\u001b[0m\u001b[0m\n\u001b[0m",
      "\u001b[0;31mTypeError\u001b[0m: can only concatenate list (not \"int\") to list"
     ]
    }
   ],
   "source": [
    "a+1"
   ]
  },
  {
   "cell_type": "code",
   "execution_count": 8,
   "id": "07de08b7",
   "metadata": {},
   "outputs": [
    {
     "data": {
      "text/plain": [
       "array([ 2,  3,  4,  5,  7,  8, 10, 11])"
      ]
     },
     "execution_count": 8,
     "metadata": {},
     "output_type": "execute_result"
    }
   ],
   "source": [
    "b+1"
   ]
  },
  {
   "cell_type": "code",
   "execution_count": 12,
   "id": "a6cd470a",
   "metadata": {},
   "outputs": [
    {
     "name": "stdout",
     "output_type": "stream",
     "text": [
      "8\n"
     ]
    }
   ],
   "source": [
    "# Any single-valued operation will be carried out on all elements\n",
    "\n",
    "print(2**3)"
   ]
  },
  {
   "cell_type": "code",
   "execution_count": 15,
   "id": "a1a15db3",
   "metadata": {},
   "outputs": [
    {
     "data": {
      "text/plain": [
       "array([  1,   4,   9,  16,  36,  49,  81, 100])"
      ]
     },
     "execution_count": 15,
     "metadata": {},
     "output_type": "execute_result"
    }
   ],
   "source": [
    "b**2"
   ]
  },
  {
   "cell_type": "code",
   "execution_count": 16,
   "id": "0aefd6e4",
   "metadata": {},
   "outputs": [
    {
     "data": {
      "text/plain": [
       "array([ 1,  2,  3,  4,  6,  7,  9, 10])"
      ]
     },
     "execution_count": 16,
     "metadata": {},
     "output_type": "execute_result"
    }
   ],
   "source": [
    "b"
   ]
  },
  {
   "cell_type": "code",
   "execution_count": 17,
   "id": "60df63db",
   "metadata": {},
   "outputs": [
    {
     "data": {
      "text/plain": [
       "(8,)"
      ]
     },
     "execution_count": 17,
     "metadata": {},
     "output_type": "execute_result"
    }
   ],
   "source": [
    "np.shape(b)"
   ]
  },
  {
   "cell_type": "code",
   "execution_count": 22,
   "id": "edcd52b0",
   "metadata": {},
   "outputs": [
    {
     "name": "stdout",
     "output_type": "stream",
     "text": [
      "1D array:  [1 2 3]\n",
      "2D array: \n",
      " [[2 3 4]\n",
      " [4 5 6]\n",
      " [6 7 8]]\n"
     ]
    }
   ],
   "source": [
    "c = np.array([1,2,3])\n",
    "\n",
    "d = np.array([[2,3,4],[4,5,6],[6,7,8]])\n",
    "\n",
    "print(\"1D array: \", c)\n",
    "print(\"2D array: \\n\", d)"
   ]
  },
  {
   "cell_type": "code",
   "execution_count": 23,
   "id": "8a71bdff",
   "metadata": {},
   "outputs": [
    {
     "data": {
      "text/plain": [
       "array([[ 2,  6, 12],\n",
       "       [ 4, 10, 18],\n",
       "       [ 6, 14, 24]])"
      ]
     },
     "execution_count": 23,
     "metadata": {},
     "output_type": "execute_result"
    }
   ],
   "source": [
    "c*d"
   ]
  },
  {
   "cell_type": "markdown",
   "id": "7a7873a2",
   "metadata": {},
   "source": [
    "# Multiplying matrices\n",
    "\n"
   ]
  },
  {
   "cell_type": "code",
   "execution_count": 27,
   "id": "622f83f2",
   "metadata": {},
   "outputs": [
    {
     "data": {
      "text/plain": [
       "array([28, 34, 40])"
      ]
     },
     "execution_count": 27,
     "metadata": {},
     "output_type": "execute_result"
    }
   ],
   "source": [
    "np.matmul(c,d)"
   ]
  },
  {
   "cell_type": "code",
   "execution_count": 28,
   "id": "c811196f",
   "metadata": {},
   "outputs": [
    {
     "data": {
      "text/plain": [
       "array([20, 32, 44])"
      ]
     },
     "execution_count": 28,
     "metadata": {},
     "output_type": "execute_result"
    }
   ],
   "source": [
    "np.matmul(d,c)"
   ]
  },
  {
   "cell_type": "code",
   "execution_count": 29,
   "id": "0fdc4d26",
   "metadata": {},
   "outputs": [
    {
     "data": {
      "text/plain": [
       "array([28, 34, 40])"
      ]
     },
     "execution_count": 29,
     "metadata": {},
     "output_type": "execute_result"
    }
   ],
   "source": [
    "np.dot(c,d)"
   ]
  },
  {
   "cell_type": "code",
   "execution_count": 30,
   "id": "542cdae6",
   "metadata": {},
   "outputs": [
    {
     "data": {
      "text/plain": [
       "array([20, 32, 44])"
      ]
     },
     "execution_count": 30,
     "metadata": {},
     "output_type": "execute_result"
    }
   ],
   "source": [
    "np.dot(d,c)"
   ]
  },
  {
   "cell_type": "code",
   "execution_count": 31,
   "id": "7a094bbb",
   "metadata": {},
   "outputs": [
    {
     "ename": "ValueError",
     "evalue": "matmul: Input operand 1 has a mismatch in its core dimension 0, with gufunc signature (n?,k),(k,m?)->(n?,m?) (size 4 is different from 3)",
     "output_type": "error",
     "traceback": [
      "\u001b[0;31m---------------------------------------------------------------------------\u001b[0m",
      "\u001b[0;31mValueError\u001b[0m                                Traceback (most recent call last)",
      "\u001b[0;32m/var/folders/tk/56gqnsbs2cl6qj94ktnh4x0m0000gn/T/ipykernel_97286/2919140363.py\u001b[0m in \u001b[0;36m<module>\u001b[0;34m\u001b[0m\n\u001b[1;32m      1\u001b[0m \u001b[0me\u001b[0m \u001b[0;34m=\u001b[0m \u001b[0mnp\u001b[0m\u001b[0;34m.\u001b[0m\u001b[0marray\u001b[0m\u001b[0;34m(\u001b[0m\u001b[0;34m[\u001b[0m\u001b[0;36m1\u001b[0m\u001b[0;34m,\u001b[0m\u001b[0;36m2\u001b[0m\u001b[0;34m,\u001b[0m\u001b[0;36m3\u001b[0m\u001b[0;34m,\u001b[0m\u001b[0;36m4\u001b[0m\u001b[0;34m]\u001b[0m\u001b[0;34m)\u001b[0m\u001b[0;34m\u001b[0m\u001b[0;34m\u001b[0m\u001b[0m\n\u001b[1;32m      2\u001b[0m \u001b[0;34m\u001b[0m\u001b[0m\n\u001b[0;32m----> 3\u001b[0;31m \u001b[0mnp\u001b[0m\u001b[0;34m.\u001b[0m\u001b[0mmatmul\u001b[0m\u001b[0;34m(\u001b[0m\u001b[0mc\u001b[0m\u001b[0;34m,\u001b[0m\u001b[0me\u001b[0m\u001b[0;34m)\u001b[0m\u001b[0;34m\u001b[0m\u001b[0;34m\u001b[0m\u001b[0m\n\u001b[0m",
      "\u001b[0;31mValueError\u001b[0m: matmul: Input operand 1 has a mismatch in its core dimension 0, with gufunc signature (n?,k),(k,m?)->(n?,m?) (size 4 is different from 3)"
     ]
    }
   ],
   "source": [
    "e = np.array([1,2,3,4])\n",
    "\n",
    "np.matmul(c,e)"
   ]
  },
  {
   "cell_type": "code",
   "execution_count": 33,
   "id": "ff718b42",
   "metadata": {},
   "outputs": [],
   "source": [
    "# Numpy can also handle tensors\n",
    "\n",
    "f = np.array([[[1,2,3],[4,5,6],[7,8,9]],[[2,3,4],[5,6,7],[3,4,5]],[[2,3,4],[5,6,7],[3,4,5]]])"
   ]
  },
  {
   "cell_type": "code",
   "execution_count": 34,
   "id": "5cdd77ad",
   "metadata": {},
   "outputs": [
    {
     "data": {
      "text/plain": [
       "array([[[1, 2, 3],\n",
       "        [4, 5, 6],\n",
       "        [7, 8, 9]],\n",
       "\n",
       "       [[2, 3, 4],\n",
       "        [5, 6, 7],\n",
       "        [3, 4, 5]],\n",
       "\n",
       "       [[2, 3, 4],\n",
       "        [5, 6, 7],\n",
       "        [3, 4, 5]]])"
      ]
     },
     "execution_count": 34,
     "metadata": {},
     "output_type": "execute_result"
    }
   ],
   "source": [
    "f"
   ]
  },
  {
   "cell_type": "code",
   "execution_count": 35,
   "id": "0c47419f",
   "metadata": {},
   "outputs": [
    {
     "data": {
      "text/plain": [
       "(3, 3, 3)"
      ]
     },
     "execution_count": 35,
     "metadata": {},
     "output_type": "execute_result"
    }
   ],
   "source": [
    "np.shape(f)"
   ]
  },
  {
   "cell_type": "code",
   "execution_count": 37,
   "id": "5709a842",
   "metadata": {},
   "outputs": [
    {
     "data": {
      "text/plain": [
       "(3, 3)"
      ]
     },
     "execution_count": 37,
     "metadata": {},
     "output_type": "execute_result"
    }
   ],
   "source": [
    "np.shape(d)"
   ]
  },
  {
   "cell_type": "code",
   "execution_count": 38,
   "id": "46eea0e0",
   "metadata": {},
   "outputs": [
    {
     "data": {
      "text/plain": [
       "array([[[ 28,  34,  40],\n",
       "        [ 64,  79,  94],\n",
       "        [100, 124, 148]],\n",
       "\n",
       "       [[ 40,  49,  58],\n",
       "        [ 76,  94, 112],\n",
       "        [ 52,  64,  76]],\n",
       "\n",
       "       [[ 40,  49,  58],\n",
       "        [ 76,  94, 112],\n",
       "        [ 52,  64,  76]]])"
      ]
     },
     "execution_count": 38,
     "metadata": {},
     "output_type": "execute_result"
    }
   ],
   "source": [
    "np.matmul(f,d)"
   ]
  },
  {
   "cell_type": "code",
   "execution_count": 41,
   "id": "039bc780",
   "metadata": {},
   "outputs": [
    {
     "data": {
      "text/plain": [
       "array([[[ 42,  51,  60],\n",
       "        [ 66,  81,  96],\n",
       "        [ 90, 111, 132]],\n",
       "\n",
       "       [[ 31,  40,  49],\n",
       "        [ 51,  66,  81],\n",
       "        [ 71,  92, 113]],\n",
       "\n",
       "       [[ 31,  40,  49],\n",
       "        [ 51,  66,  81],\n",
       "        [ 71,  92, 113]]])"
      ]
     },
     "execution_count": 41,
     "metadata": {},
     "output_type": "execute_result"
    }
   ],
   "source": [
    "np.matmul(d,f)"
   ]
  },
  {
   "cell_type": "code",
   "execution_count": 42,
   "id": "13bc9fb5",
   "metadata": {},
   "outputs": [
    {
     "data": {
      "text/plain": [
       "array([164, 209, 254])"
      ]
     },
     "execution_count": 42,
     "metadata": {},
     "output_type": "execute_result"
    }
   ],
   "source": [
    "np.tensordot(d,f)"
   ]
  },
  {
   "cell_type": "markdown",
   "id": "a75643f3",
   "metadata": {},
   "source": [
    "# Defining functions"
   ]
  },
  {
   "cell_type": "code",
   "execution_count": 43,
   "id": "1a695a2b",
   "metadata": {},
   "outputs": [],
   "source": [
    "def poly_1(x):\n",
    "    \n",
    "    return x**3 + 2*x**2 - x +5"
   ]
  },
  {
   "cell_type": "code",
   "execution_count": 49,
   "id": "94ec2c54",
   "metadata": {},
   "outputs": [
    {
     "name": "stdout",
     "output_type": "stream",
     "text": [
      "[ 1.          1.0959596   1.19191919  1.28787879  1.38383838  1.47979798\n",
      "  1.57575758  1.67171717  1.76767677  1.86363636  1.95959596  2.05555556\n",
      "  2.15151515  2.24747475  2.34343434  2.43939394  2.53535354  2.63131313\n",
      "  2.72727273  2.82323232  2.91919192  3.01515152  3.11111111  3.20707071\n",
      "  3.3030303   3.3989899   3.49494949  3.59090909  3.68686869  3.78282828\n",
      "  3.87878788  3.97474747  4.07070707  4.16666667  4.26262626  4.35858586\n",
      "  4.45454545  4.55050505  4.64646465  4.74242424  4.83838384  4.93434343\n",
      "  5.03030303  5.12626263  5.22222222  5.31818182  5.41414141  5.51010101\n",
      "  5.60606061  5.7020202   5.7979798   5.89393939  5.98989899  6.08585859\n",
      "  6.18181818  6.27777778  6.37373737  6.46969697  6.56565657  6.66161616\n",
      "  6.75757576  6.85353535  6.94949495  7.04545455  7.14141414  7.23737374\n",
      "  7.33333333  7.42929293  7.52525253  7.62121212  7.71717172  7.81313131\n",
      "  7.90909091  8.00505051  8.1010101   8.1969697   8.29292929  8.38888889\n",
      "  8.48484848  8.58080808  8.67676768  8.77272727  8.86868687  8.96464646\n",
      "  9.06060606  9.15656566  9.25252525  9.34848485  9.44444444  9.54040404\n",
      "  9.63636364  9.73232323  9.82828283  9.92424242 10.02020202 10.11616162\n",
      " 10.21212121 10.30808081 10.4040404  10.5       ]\n"
     ]
    }
   ],
   "source": [
    "# We saw range()\n",
    "\n",
    "print(np.linspace(1,10.5,100))"
   ]
  },
  {
   "cell_type": "code",
   "execution_count": 50,
   "id": "6c0a4584",
   "metadata": {},
   "outputs": [],
   "source": [
    "x_vals = np.linspace(1,10.5,100)"
   ]
  },
  {
   "cell_type": "code",
   "execution_count": 53,
   "id": "47b40b8c",
   "metadata": {},
   "outputs": [],
   "source": [
    "poly_vals = poly_1(x_vals)"
   ]
  },
  {
   "cell_type": "code",
   "execution_count": 54,
   "id": "4ea281c5",
   "metadata": {},
   "outputs": [
    {
     "data": {
      "text/plain": [
       "array([ 89.56754877,  95.41800247, 101.52489181, 107.89351852,\n",
       "       114.5291843 , 121.43719088, 128.62283997, 136.09143328,\n",
       "       143.84827254, 151.89865946, 160.24789575, 168.90128314,\n",
       "       177.86412333, 187.14171804, 196.739369  , 206.66237791,\n",
       "       216.9160465 , 227.50567647, 238.43656955, 249.71402745,\n",
       "       261.34335189, 273.32984459, 285.67880725, 298.39554161,\n",
       "       311.48534936, 324.95353224, 338.80539195, 353.04623021,\n",
       "       367.68134874, 382.71604925])"
      ]
     },
     "execution_count": 54,
     "metadata": {},
     "output_type": "execute_result"
    }
   ],
   "source": [
    "poly_vals[30:60]"
   ]
  },
  {
   "cell_type": "markdown",
   "id": "0ff632e7",
   "metadata": {},
   "source": [
    "# Math stuff"
   ]
  },
  {
   "cell_type": "code",
   "execution_count": 55,
   "id": "fca1c98d",
   "metadata": {},
   "outputs": [
    {
     "data": {
      "text/plain": [
       "2.718281828459045"
      ]
     },
     "execution_count": 55,
     "metadata": {},
     "output_type": "execute_result"
    }
   ],
   "source": [
    "np.exp(1)"
   ]
  },
  {
   "cell_type": "code",
   "execution_count": 57,
   "id": "648f7e68",
   "metadata": {},
   "outputs": [
    {
     "data": {
      "text/plain": [
       "6561"
      ]
     },
     "execution_count": 57,
     "metadata": {},
     "output_type": "execute_result"
    }
   ],
   "source": [
    "np.power(3,8)"
   ]
  },
  {
   "cell_type": "code",
   "execution_count": 58,
   "id": "cc95937b",
   "metadata": {},
   "outputs": [
    {
     "data": {
      "text/plain": [
       "0.0"
      ]
     },
     "execution_count": 58,
     "metadata": {},
     "output_type": "execute_result"
    }
   ],
   "source": [
    "np.log(1)"
   ]
  },
  {
   "cell_type": "code",
   "execution_count": 59,
   "id": "4762eefd",
   "metadata": {},
   "outputs": [
    {
     "data": {
      "text/plain": [
       "array([1. , 1.1, 1.2, 1.3, 1.4, 1.5, 1.6, 1.7, 1.8, 1.9, 2. , 2.1, 2.2,\n",
       "       2.3, 2.4, 2.5, 2.6, 2.7, 2.8, 2.9, 3. , 3.1, 3.2, 3.3, 3.4, 3.5,\n",
       "       3.6, 3.7, 3.8, 3.9, 4. , 4.1, 4.2, 4.3, 4.4, 4.5, 4.6, 4.7, 4.8,\n",
       "       4.9, 5. , 5.1, 5.2, 5.3, 5.4, 5.5, 5.6, 5.7, 5.8, 5.9, 6. , 6.1,\n",
       "       6.2, 6.3, 6.4, 6.5, 6.6, 6.7, 6.8, 6.9, 7. , 7.1, 7.2, 7.3, 7.4,\n",
       "       7.5, 7.6, 7.7, 7.8, 7.9, 8. , 8.1, 8.2, 8.3, 8.4, 8.5, 8.6, 8.7,\n",
       "       8.8, 8.9, 9. , 9.1, 9.2, 9.3, 9.4, 9.5, 9.6, 9.7, 9.8, 9.9])"
      ]
     },
     "execution_count": 59,
     "metadata": {},
     "output_type": "execute_result"
    }
   ],
   "source": [
    "np.arange(1,10,0.1)"
   ]
  },
  {
   "cell_type": "code",
   "execution_count": 61,
   "id": "b452210d",
   "metadata": {},
   "outputs": [
    {
     "data": {
      "text/plain": [
       "array([[0., 0., 0., 0., 0., 0., 0., 0., 0., 0., 0., 0., 0., 0., 0., 0.,\n",
       "        0., 0., 0., 0.],\n",
       "       [0., 0., 0., 0., 0., 0., 0., 0., 0., 0., 0., 0., 0., 0., 0., 0.,\n",
       "        0., 0., 0., 0.],\n",
       "       [0., 0., 0., 0., 0., 0., 0., 0., 0., 0., 0., 0., 0., 0., 0., 0.,\n",
       "        0., 0., 0., 0.],\n",
       "       [0., 0., 0., 0., 0., 0., 0., 0., 0., 0., 0., 0., 0., 0., 0., 0.,\n",
       "        0., 0., 0., 0.],\n",
       "       [0., 0., 0., 0., 0., 0., 0., 0., 0., 0., 0., 0., 0., 0., 0., 0.,\n",
       "        0., 0., 0., 0.],\n",
       "       [0., 0., 0., 0., 0., 0., 0., 0., 0., 0., 0., 0., 0., 0., 0., 0.,\n",
       "        0., 0., 0., 0.],\n",
       "       [0., 0., 0., 0., 0., 0., 0., 0., 0., 0., 0., 0., 0., 0., 0., 0.,\n",
       "        0., 0., 0., 0.],\n",
       "       [0., 0., 0., 0., 0., 0., 0., 0., 0., 0., 0., 0., 0., 0., 0., 0.,\n",
       "        0., 0., 0., 0.],\n",
       "       [0., 0., 0., 0., 0., 0., 0., 0., 0., 0., 0., 0., 0., 0., 0., 0.,\n",
       "        0., 0., 0., 0.],\n",
       "       [0., 0., 0., 0., 0., 0., 0., 0., 0., 0., 0., 0., 0., 0., 0., 0.,\n",
       "        0., 0., 0., 0.],\n",
       "       [0., 0., 0., 0., 0., 0., 0., 0., 0., 0., 0., 0., 0., 0., 0., 0.,\n",
       "        0., 0., 0., 0.],\n",
       "       [0., 0., 0., 0., 0., 0., 0., 0., 0., 0., 0., 0., 0., 0., 0., 0.,\n",
       "        0., 0., 0., 0.],\n",
       "       [0., 0., 0., 0., 0., 0., 0., 0., 0., 0., 0., 0., 0., 0., 0., 0.,\n",
       "        0., 0., 0., 0.],\n",
       "       [0., 0., 0., 0., 0., 0., 0., 0., 0., 0., 0., 0., 0., 0., 0., 0.,\n",
       "        0., 0., 0., 0.],\n",
       "       [0., 0., 0., 0., 0., 0., 0., 0., 0., 0., 0., 0., 0., 0., 0., 0.,\n",
       "        0., 0., 0., 0.],\n",
       "       [0., 0., 0., 0., 0., 0., 0., 0., 0., 0., 0., 0., 0., 0., 0., 0.,\n",
       "        0., 0., 0., 0.],\n",
       "       [0., 0., 0., 0., 0., 0., 0., 0., 0., 0., 0., 0., 0., 0., 0., 0.,\n",
       "        0., 0., 0., 0.],\n",
       "       [0., 0., 0., 0., 0., 0., 0., 0., 0., 0., 0., 0., 0., 0., 0., 0.,\n",
       "        0., 0., 0., 0.],\n",
       "       [0., 0., 0., 0., 0., 0., 0., 0., 0., 0., 0., 0., 0., 0., 0., 0.,\n",
       "        0., 0., 0., 0.],\n",
       "       [0., 0., 0., 0., 0., 0., 0., 0., 0., 0., 0., 0., 0., 0., 0., 0.,\n",
       "        0., 0., 0., 0.]])"
      ]
     },
     "execution_count": 61,
     "metadata": {},
     "output_type": "execute_result"
    }
   ],
   "source": [
    "np.zeros([20,20])"
   ]
  },
  {
   "cell_type": "code",
   "execution_count": 63,
   "id": "073bb80f",
   "metadata": {},
   "outputs": [
    {
     "data": {
      "text/plain": [
       "array([[1., 0., 0., 0., 0.],\n",
       "       [0., 1., 0., 0., 0.],\n",
       "       [0., 0., 1., 0., 0.],\n",
       "       [0., 0., 0., 1., 0.],\n",
       "       [0., 0., 0., 0., 1.]])"
      ]
     },
     "execution_count": 63,
     "metadata": {},
     "output_type": "execute_result"
    }
   ],
   "source": [
    "np.eye(5)"
   ]
  },
  {
   "cell_type": "code",
   "execution_count": 65,
   "id": "21260c8f",
   "metadata": {},
   "outputs": [
    {
     "data": {
      "text/plain": [
       "array([[1., 1., 1., 1., 1.],\n",
       "       [1., 1., 1., 1., 1.],\n",
       "       [1., 1., 1., 1., 1.],\n",
       "       [1., 1., 1., 1., 1.],\n",
       "       [1., 1., 1., 1., 1.],\n",
       "       [1., 1., 1., 1., 1.],\n",
       "       [1., 1., 1., 1., 1.],\n",
       "       [1., 1., 1., 1., 1.],\n",
       "       [1., 1., 1., 1., 1.],\n",
       "       [1., 1., 1., 1., 1.]])"
      ]
     },
     "execution_count": 65,
     "metadata": {},
     "output_type": "execute_result"
    }
   ],
   "source": [
    "np.ones([10,5])"
   ]
  },
  {
   "cell_type": "code",
   "execution_count": 67,
   "id": "0840e649",
   "metadata": {},
   "outputs": [],
   "source": [
    "a = np.ones([5,5]) + 0.5*np.eye(5)"
   ]
  },
  {
   "cell_type": "code",
   "execution_count": 68,
   "id": "bd10d653",
   "metadata": {},
   "outputs": [
    {
     "name": "stdout",
     "output_type": "stream",
     "text": [
      "[[1.5 1.  1.  1.  1. ]\n",
      " [1.  1.5 1.  1.  1. ]\n",
      " [1.  1.  1.5 1.  1. ]\n",
      " [1.  1.  1.  1.5 1. ]\n",
      " [1.  1.  1.  1.  1.5]]\n",
      "[[ 1.63636364 -0.36363636 -0.36363636 -0.36363636 -0.36363636]\n",
      " [-0.36363636  1.63636364 -0.36363636 -0.36363636 -0.36363636]\n",
      " [-0.36363636 -0.36363636  1.63636364 -0.36363636 -0.36363636]\n",
      " [-0.36363636 -0.36363636 -0.36363636  1.63636364 -0.36363636]\n",
      " [-0.36363636 -0.36363636 -0.36363636 -0.36363636  1.63636364]]\n"
     ]
    }
   ],
   "source": [
    "print(a)\n",
    "\n",
    "print(np.linalg.inv(a))"
   ]
  },
  {
   "cell_type": "code",
   "execution_count": 69,
   "id": "387445c9",
   "metadata": {},
   "outputs": [
    {
     "data": {
      "text/plain": [
       "array([0.5, 5.5, 0.5, 0.5, 0.5])"
      ]
     },
     "execution_count": 69,
     "metadata": {},
     "output_type": "execute_result"
    }
   ],
   "source": [
    "np.linalg.eigvals(a)"
   ]
  },
  {
   "cell_type": "markdown",
   "id": "8e69bbbc",
   "metadata": {},
   "source": [
    "# Plotting"
   ]
  },
  {
   "cell_type": "code",
   "execution_count": 76,
   "id": "6a29ebe8",
   "metadata": {},
   "outputs": [],
   "source": [
    "import matplotlib.pyplot as plt"
   ]
  },
  {
   "cell_type": "code",
   "execution_count": 72,
   "id": "1e6668d0",
   "metadata": {},
   "outputs": [],
   "source": [
    "a = np.linspace(0,20,100)"
   ]
  },
  {
   "cell_type": "code",
   "execution_count": 78,
   "id": "fd6837a6",
   "metadata": {},
   "outputs": [
    {
     "data": {
      "text/plain": [
       "<matplotlib.collections.PathCollection at 0x7fe2f8606790>"
      ]
     },
     "execution_count": 78,
     "metadata": {},
     "output_type": "execute_result"
    },
    {
     "data": {
      "image/png": "[encoded data removed]",
      "text/plain": [
       "<Figure size 432x288 with 1 Axes>"
      ]
     },
     "metadata": {
      "needs_background": "light"
     },
     "output_type": "display_data"
    }
   ],
   "source": [
    "plt.scatter(a,a)"
   ]
  },
  {
   "cell_type": "code",
   "execution_count": 87,
   "id": "d46dc185",
   "metadata": {},
   "outputs": [],
   "source": [
    "rand = np.random.rand(100)-0.5"
   ]
  },
  {
   "cell_type": "code",
   "execution_count": 88,
   "id": "58fee706",
   "metadata": {},
   "outputs": [
    {
     "data": {
      "text/plain": [
       "[<matplotlib.lines.Line2D at 0x7fe30a835160>]"
      ]
     },
     "execution_count": 88,
     "metadata": {},
     "output_type": "execute_result"
    },
    {
     "data": {
      "image/png": "[encoded data removed]",
      "text/plain": [
       "<Figure size 432x288 with 1 Axes>"
      ]
     },
     "metadata": {
      "needs_background": "light"
     },
     "output_type": "display_data"
    }
   ],
   "source": [
    "plt.plot(rand)"
   ]
  },
  {
   "cell_type": "code",
   "execution_count": 95,
   "id": "ed7865c4",
   "metadata": {},
   "outputs": [],
   "source": [
    "b = a+10*rand"
   ]
  },
  {
   "cell_type": "code",
   "execution_count": 97,
   "id": "1310294c",
   "metadata": {},
   "outputs": [
    {
     "data": {
      "text/plain": [
       "<matplotlib.collections.PathCollection at 0x7fe30aa56610>"
      ]
     },
     "execution_count": 97,
     "metadata": {},
     "output_type": "execute_result"
    },
    {
     "data": {
      "image/png": "[encoded data removed]",
      "text/plain": [
       "<Figure size 432x288 with 1 Axes>"
      ]
     },
     "metadata": {
      "needs_background": "light"
     },
     "output_type": "display_data"
    }
   ],
   "source": [
    "plt.scatter(a,b)"
   ]
  },
  {
   "cell_type": "code",
   "execution_count": 101,
   "id": "28956ac6",
   "metadata": {},
   "outputs": [],
   "source": [
    "from numpy.polynomial.polynomial import polyfit as pfit"
   ]
  },
  {
   "cell_type": "code",
   "execution_count": 106,
   "id": "2757d837",
   "metadata": {},
   "outputs": [
    {
     "name": "stdout",
     "output_type": "stream",
     "text": [
      "[-0.12796854  0.98528321]\n"
     ]
    }
   ],
   "source": [
    "coeffs = pfit(a,b,1)\n",
    "\n",
    "print(coeffs)"
   ]
  },
  {
   "cell_type": "code",
   "execution_count": 111,
   "id": "6c0f254a",
   "metadata": {},
   "outputs": [
    {
     "data": {
      "text/plain": [
       "[<matplotlib.lines.Line2D at 0x7fe2c82c7610>]"
      ]
     },
     "execution_count": 111,
     "metadata": {},
     "output_type": "execute_result"
    },
    {
     "data": {
      "image/png": "[encoded data removed]",
      "text/plain": [
       "<Figure size 432x288 with 1 Axes>"
      ]
     },
     "metadata": {
      "needs_background": "light"
     },
     "output_type": "display_data"
    }
   ],
   "source": [
    "plt.scatter(a,b)\n",
    "\n",
    "line_y = coeffs[0]+coeffs[1]*a\n",
    "\n",
    "plt.plot(a,line_y, color='blue')\n",
    "plt.scatter(a,b, color='green')\n",
    "plt.plot(a,a)"
   ]
  },
  {
   "cell_type": "code",
   "execution_count": 130,
   "id": "83ac8183",
   "metadata": {},
   "outputs": [
    {
     "name": "stdout",
     "output_type": "stream",
     "text": [
      "[-2.35987503e-08  3.77422662e-06 -2.12129742e-04  5.94346283e-03\n",
      " -9.30583028e-02  8.36836531e-01 -4.18453502e+00  1.04216914e+01\n",
      " -8.54702022e+00  2.19324978e-01]\n"
     ]
    }
   ],
   "source": [
    "coeffs_9 = np.flip(pfit(a,b,9))\n",
    "\n",
    "print(coeffs_9)"
   ]
  },
  {
   "cell_type": "code",
   "execution_count": 131,
   "id": "5444d4f9",
   "metadata": {},
   "outputs": [
    {
     "data": {
      "text/plain": [
       "[<matplotlib.lines.Line2D at 0x7fe2c85f3910>]"
      ]
     },
     "execution_count": 131,
     "metadata": {},
     "output_type": "execute_result"
    },
    {
     "data": {
      "image/png": "[encoded data removed]",
      "text/plain": [
       "<Figure size 432x288 with 1 Axes>"
      ]
     },
     "metadata": {
      "needs_background": "light"
     },
     "output_type": "display_data"
    }
   ],
   "source": [
    "plt.scatter(a,b)\n",
    "\n",
    "line_y = np.polyval(coeffs_9,a)\n",
    "\n",
    "plt.plot(a,line_y, color='blue')\n",
    "plt.scatter(a,b, color='green')\n",
    "plt.plot(a,a)"
   ]
  },
  {
   "cell_type": "code",
   "execution_count": null,
   "id": "08fc9295",
   "metadata": {},
   "outputs": [],
   "source": []
  }
 ],
 "metadata": {
  "kernelspec": {
   "display_name": "Python 3 (ipykernel)",
   "language": "python",
   "name": "python3"
  },
  "language_info": {
   "codemirror_mode": {
    "name": "ipython",
    "version": 3
   },
   "file_extension": ".py",
   "mimetype": "text/x-python",
   "name": "python",
   "nbconvert_exporter": "python",
   "pygments_lexer": "ipython3",
   "version": "3.9.7"
  }
 },
 "nbformat": 4,
 "nbformat_minor": 5
}
